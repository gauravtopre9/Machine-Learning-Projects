{
 "cells": [
  {
   "cell_type": "markdown",
   "id": "cafa5bd0",
   "metadata": {},
   "source": [
    "# Credit Card Approval - Try 2"
   ]
  },
  {
   "cell_type": "markdown",
   "id": "eee54eac",
   "metadata": {},
   "source": [
    "**Project Flow:**\n",
    "\n",
    "1. Importing and understanding data\n",
    "2. Categorizing data (Converting string categories to numeric)\n",
    "3. Removing Null Values if any\n",
    "4. Defining Hypothesis\n",
    "5. Using Hypothesis for calculating Cost Function\n",
    "6. Defining function for optimizing Theta (will be using scipy.optimize)\n",
    "7. Checking Hypothesis on x_test\n",
    "8. Calculating f1 and Accuracy score on y_test and y_test_predicted\n",
    "\n",
    "*My target will be getting 90 % accuracy*"
   ]
  },
  {
   "cell_type": "code",
   "execution_count": 1,
   "id": "aee8923b",
   "metadata": {},
   "outputs": [],
   "source": [
    "#importing Module\n",
    "import numpy as np\n",
    "import pandas as pd"
   ]
  },
  {
   "cell_type": "code",
   "execution_count": 2,
   "id": "2de878d1",
   "metadata": {},
   "outputs": [],
   "source": [
    "data = pd.read_csv('creditcard.csv') #reading csv"
   ]
  },
  {
   "cell_type": "code",
   "execution_count": 3,
   "id": "4c619069",
   "metadata": {},
   "outputs": [
    {
     "name": "stdout",
     "output_type": "stream",
     "text": [
      "(690, 16)\n"
     ]
    },
    {
     "data": {
      "text/html": [
       "<div>\n",
       "<style scoped>\n",
       "    .dataframe tbody tr th:only-of-type {\n",
       "        vertical-align: middle;\n",
       "    }\n",
       "\n",
       "    .dataframe tbody tr th {\n",
       "        vertical-align: top;\n",
       "    }\n",
       "\n",
       "    .dataframe thead th {\n",
       "        text-align: right;\n",
       "    }\n",
       "</style>\n",
       "<table border=\"1\" class=\"dataframe\">\n",
       "  <thead>\n",
       "    <tr style=\"text-align: right;\">\n",
       "      <th></th>\n",
       "      <th>Gender</th>\n",
       "      <th>Age</th>\n",
       "      <th>Debt</th>\n",
       "      <th>Married</th>\n",
       "      <th>BankCustomer</th>\n",
       "      <th>EducationLevel</th>\n",
       "      <th>Ethnicity</th>\n",
       "      <th>YearsEmployed</th>\n",
       "      <th>PriorDefault</th>\n",
       "      <th>Employed</th>\n",
       "      <th>CreditScore</th>\n",
       "      <th>DriversLicense</th>\n",
       "      <th>Citizen</th>\n",
       "      <th>ZipCode</th>\n",
       "      <th>Income</th>\n",
       "      <th>ApprovalStatus.</th>\n",
       "    </tr>\n",
       "  </thead>\n",
       "  <tbody>\n",
       "    <tr>\n",
       "      <th>0</th>\n",
       "      <td>b</td>\n",
       "      <td>30.83</td>\n",
       "      <td>0.000</td>\n",
       "      <td>u</td>\n",
       "      <td>g</td>\n",
       "      <td>w</td>\n",
       "      <td>v</td>\n",
       "      <td>1.25</td>\n",
       "      <td>t</td>\n",
       "      <td>t</td>\n",
       "      <td>1</td>\n",
       "      <td>f</td>\n",
       "      <td>g</td>\n",
       "      <td>202</td>\n",
       "      <td>0</td>\n",
       "      <td>+</td>\n",
       "    </tr>\n",
       "    <tr>\n",
       "      <th>1</th>\n",
       "      <td>a</td>\n",
       "      <td>58.67</td>\n",
       "      <td>4.460</td>\n",
       "      <td>u</td>\n",
       "      <td>g</td>\n",
       "      <td>q</td>\n",
       "      <td>h</td>\n",
       "      <td>3.04</td>\n",
       "      <td>t</td>\n",
       "      <td>t</td>\n",
       "      <td>6</td>\n",
       "      <td>f</td>\n",
       "      <td>g</td>\n",
       "      <td>43</td>\n",
       "      <td>560</td>\n",
       "      <td>+</td>\n",
       "    </tr>\n",
       "    <tr>\n",
       "      <th>2</th>\n",
       "      <td>a</td>\n",
       "      <td>24.5</td>\n",
       "      <td>0.500</td>\n",
       "      <td>u</td>\n",
       "      <td>g</td>\n",
       "      <td>q</td>\n",
       "      <td>h</td>\n",
       "      <td>1.50</td>\n",
       "      <td>t</td>\n",
       "      <td>f</td>\n",
       "      <td>0</td>\n",
       "      <td>f</td>\n",
       "      <td>g</td>\n",
       "      <td>280</td>\n",
       "      <td>824</td>\n",
       "      <td>+</td>\n",
       "    </tr>\n",
       "    <tr>\n",
       "      <th>3</th>\n",
       "      <td>b</td>\n",
       "      <td>27.83</td>\n",
       "      <td>1.540</td>\n",
       "      <td>u</td>\n",
       "      <td>g</td>\n",
       "      <td>w</td>\n",
       "      <td>v</td>\n",
       "      <td>3.75</td>\n",
       "      <td>t</td>\n",
       "      <td>t</td>\n",
       "      <td>5</td>\n",
       "      <td>t</td>\n",
       "      <td>g</td>\n",
       "      <td>100</td>\n",
       "      <td>3</td>\n",
       "      <td>+</td>\n",
       "    </tr>\n",
       "    <tr>\n",
       "      <th>4</th>\n",
       "      <td>b</td>\n",
       "      <td>20.17</td>\n",
       "      <td>5.625</td>\n",
       "      <td>u</td>\n",
       "      <td>g</td>\n",
       "      <td>w</td>\n",
       "      <td>v</td>\n",
       "      <td>1.71</td>\n",
       "      <td>t</td>\n",
       "      <td>f</td>\n",
       "      <td>0</td>\n",
       "      <td>f</td>\n",
       "      <td>s</td>\n",
       "      <td>120</td>\n",
       "      <td>0</td>\n",
       "      <td>+</td>\n",
       "    </tr>\n",
       "  </tbody>\n",
       "</table>\n",
       "</div>"
      ],
      "text/plain": [
       "  Gender    Age   Debt Married BankCustomer EducationLevel Ethnicity  \\\n",
       "0      b  30.83  0.000       u            g              w         v   \n",
       "1      a  58.67  4.460       u            g              q         h   \n",
       "2      a   24.5  0.500       u            g              q         h   \n",
       "3      b  27.83  1.540       u            g              w         v   \n",
       "4      b  20.17  5.625       u            g              w         v   \n",
       "\n",
       "   YearsEmployed PriorDefault Employed  CreditScore DriversLicense Citizen  \\\n",
       "0           1.25            t        t            1              f       g   \n",
       "1           3.04            t        t            6              f       g   \n",
       "2           1.50            t        f            0              f       g   \n",
       "3           3.75            t        t            5              t       g   \n",
       "4           1.71            t        f            0              f       s   \n",
       "\n",
       "  ZipCode  Income ApprovalStatus.  \n",
       "0     202       0               +  \n",
       "1      43     560               +  \n",
       "2     280     824               +  \n",
       "3     100       3               +  \n",
       "4     120       0               +  "
      ]
     },
     "execution_count": 3,
     "metadata": {},
     "output_type": "execute_result"
    }
   ],
   "source": [
    "print(data.shape)\n",
    "data.head()"
   ]
  },
  {
   "cell_type": "code",
   "execution_count": 4,
   "id": "c23d058a",
   "metadata": {},
   "outputs": [
    {
     "name": "stdout",
     "output_type": "stream",
     "text": [
      "<class 'pandas.core.frame.DataFrame'>\n",
      "RangeIndex: 690 entries, 0 to 689\n",
      "Data columns (total 16 columns):\n",
      " #   Column           Non-Null Count  Dtype  \n",
      "---  ------           --------------  -----  \n",
      " 0   Gender           690 non-null    object \n",
      " 1   Age              690 non-null    object \n",
      " 2   Debt             690 non-null    float64\n",
      " 3   Married          690 non-null    object \n",
      " 4   BankCustomer     690 non-null    object \n",
      " 5   EducationLevel   690 non-null    object \n",
      " 6   Ethnicity        690 non-null    object \n",
      " 7   YearsEmployed    690 non-null    float64\n",
      " 8   PriorDefault     690 non-null    object \n",
      " 9   Employed         690 non-null    object \n",
      " 10  CreditScore      690 non-null    int64  \n",
      " 11  DriversLicense   690 non-null    object \n",
      " 12  Citizen          690 non-null    object \n",
      " 13  ZipCode          690 non-null    object \n",
      " 14  Income           690 non-null    int64  \n",
      " 15  ApprovalStatus.  690 non-null    object \n",
      "dtypes: float64(2), int64(2), object(12)\n",
      "memory usage: 86.4+ KB\n"
     ]
    }
   ],
   "source": [
    "data.info()"
   ]
  },
  {
   "cell_type": "markdown",
   "id": "c8537e72",
   "metadata": {},
   "source": [
    "- 'ZipCode' is of no use for predicting approval.\n",
    "- So we will be droping 'ZipCode' from Data\n"
   ]
  },
  {
   "cell_type": "code",
   "execution_count": 5,
   "id": "99efff4d",
   "metadata": {},
   "outputs": [],
   "source": [
    "data = data.drop(columns=['ZipCode']) "
   ]
  },
  {
   "cell_type": "markdown",
   "id": "81e1a757",
   "metadata": {},
   "source": [
    "*When we checked info 'Age' was in object format so we will convert this 'Age' to numeric*"
   ]
  },
  {
   "cell_type": "code",
   "execution_count": 6,
   "id": "d9813aee",
   "metadata": {},
   "outputs": [],
   "source": [
    "data['Age'] = pd.to_numeric(data['Age'],errors='coerce')"
   ]
  },
  {
   "cell_type": "code",
   "execution_count": 7,
   "id": "49edb886",
   "metadata": {},
   "outputs": [],
   "source": [
    "data = data.replace('?','') # data has '?' which is null value"
   ]
  },
  {
   "cell_type": "markdown",
   "id": "6bc04dbd",
   "metadata": {},
   "source": [
    "**Now we will Check unique value counts for each column and then we will replace the string values with 0/1**\n",
    "\n",
    "for multi-class columns we will be using 0,1,2,3,..."
   ]
  },
  {
   "cell_type": "code",
   "execution_count": 8,
   "id": "60ef37ee",
   "metadata": {},
   "outputs": [],
   "source": [
    "data = data.replace({'ApprovalStatus.':{'-':0,'+':1}}) "
   ]
  },
  {
   "cell_type": "code",
   "execution_count": 9,
   "id": "51e49b4d",
   "metadata": {},
   "outputs": [
    {
     "data": {
      "text/plain": [
       "array(['g', 's', 'p'], dtype=object)"
      ]
     },
     "execution_count": 9,
     "metadata": {},
     "output_type": "execute_result"
    }
   ],
   "source": [
    "data.Citizen.unique()"
   ]
  },
  {
   "cell_type": "code",
   "execution_count": 10,
   "id": "f4c74cd4",
   "metadata": {},
   "outputs": [],
   "source": [
    "data = data.replace({'Citizen':{'g':0,'s':1,'p':2}})"
   ]
  },
  {
   "cell_type": "code",
   "execution_count": 11,
   "id": "811de200",
   "metadata": {},
   "outputs": [
    {
     "data": {
      "text/plain": [
       "array(['f', 't'], dtype=object)"
      ]
     },
     "execution_count": 11,
     "metadata": {},
     "output_type": "execute_result"
    }
   ],
   "source": [
    "data.DriversLicense.unique()"
   ]
  },
  {
   "cell_type": "code",
   "execution_count": 12,
   "id": "5ac362b5",
   "metadata": {},
   "outputs": [],
   "source": [
    "data = data.replace({'DriversLicense':{'f':0,'t':1}})"
   ]
  },
  {
   "cell_type": "code",
   "execution_count": 13,
   "id": "1cec146d",
   "metadata": {},
   "outputs": [
    {
     "data": {
      "text/plain": [
       "0    374\n",
       "1    316\n",
       "Name: DriversLicense, dtype: int64"
      ]
     },
     "execution_count": 13,
     "metadata": {},
     "output_type": "execute_result"
    }
   ],
   "source": [
    "data.DriversLicense.value_counts()"
   ]
  },
  {
   "cell_type": "code",
   "execution_count": 14,
   "id": "8bbb9e69",
   "metadata": {},
   "outputs": [
    {
     "data": {
      "text/plain": [
       "f    395\n",
       "t    295\n",
       "Name: Employed, dtype: int64"
      ]
     },
     "execution_count": 14,
     "metadata": {},
     "output_type": "execute_result"
    }
   ],
   "source": [
    "data.Employed.value_counts()"
   ]
  },
  {
   "cell_type": "code",
   "execution_count": 15,
   "id": "4468d026",
   "metadata": {},
   "outputs": [],
   "source": [
    "data = data.replace({'Employed':{'f':0,'t':1}})"
   ]
  },
  {
   "cell_type": "code",
   "execution_count": 16,
   "id": "d6139fdc",
   "metadata": {},
   "outputs": [
    {
     "data": {
      "text/plain": [
       "t    361\n",
       "f    329\n",
       "Name: PriorDefault, dtype: int64"
      ]
     },
     "execution_count": 16,
     "metadata": {},
     "output_type": "execute_result"
    }
   ],
   "source": [
    "data.PriorDefault.value_counts()"
   ]
  },
  {
   "cell_type": "code",
   "execution_count": 17,
   "id": "d98673bf",
   "metadata": {},
   "outputs": [],
   "source": [
    "data = data.replace({'PriorDefault':{'t':0,'f':1}})"
   ]
  },
  {
   "cell_type": "code",
   "execution_count": 18,
   "id": "a40abf35",
   "metadata": {},
   "outputs": [
    {
     "data": {
      "text/plain": [
       "u    519\n",
       "y    163\n",
       "       6\n",
       "l      2\n",
       "Name: Married, dtype: int64"
      ]
     },
     "execution_count": 18,
     "metadata": {},
     "output_type": "execute_result"
    }
   ],
   "source": [
    "data.Married.value_counts()"
   ]
  },
  {
   "cell_type": "code",
   "execution_count": 19,
   "id": "3972926d",
   "metadata": {},
   "outputs": [],
   "source": [
    "data = data.replace({'Married':{'u':0,'y':1,'':2,'l':3}})"
   ]
  },
  {
   "cell_type": "code",
   "execution_count": 20,
   "id": "3f084179",
   "metadata": {},
   "outputs": [],
   "source": [
    "data = data.replace({'Gender':{'b':0,'a':1,'':2}})"
   ]
  },
  {
   "cell_type": "code",
   "execution_count": 21,
   "id": "b8acda3c",
   "metadata": {},
   "outputs": [],
   "source": [
    "data = data.replace({'BankCustomer':{'g':0,'p':1,'':2,'gg':3}})"
   ]
  },
  {
   "cell_type": "code",
   "execution_count": 22,
   "id": "56574f9e",
   "metadata": {},
   "outputs": [],
   "source": [
    "data = data.replace({'EducationLevel':{'c':0,'q':1,'w':2,'i':3,'aa':4,'ff':5,'k':6,'cc':7,'m':8,'x':9,'d':10,'e':11,'j':12,'':13,'r':14}})"
   ]
  },
  {
   "cell_type": "code",
   "execution_count": 23,
   "id": "26fcc83e",
   "metadata": {},
   "outputs": [],
   "source": [
    "data = data.replace({'Ethnicity':{'v':0,'h':1,'bb':2,'ff':3,'':4,'j':5,'z':6,'dd':7,'n':8,'o':9}})"
   ]
  },
  {
   "cell_type": "markdown",
   "id": "09a049ab",
   "metadata": {},
   "source": [
    "Now we will be having all our columns in int or float form"
   ]
  },
  {
   "cell_type": "code",
   "execution_count": 24,
   "id": "738db1d2",
   "metadata": {},
   "outputs": [
    {
     "name": "stdout",
     "output_type": "stream",
     "text": [
      "<class 'pandas.core.frame.DataFrame'>\n",
      "RangeIndex: 690 entries, 0 to 689\n",
      "Data columns (total 15 columns):\n",
      " #   Column           Non-Null Count  Dtype  \n",
      "---  ------           --------------  -----  \n",
      " 0   Gender           690 non-null    int64  \n",
      " 1   Age              678 non-null    float64\n",
      " 2   Debt             690 non-null    float64\n",
      " 3   Married          690 non-null    int64  \n",
      " 4   BankCustomer     690 non-null    int64  \n",
      " 5   EducationLevel   690 non-null    int64  \n",
      " 6   Ethnicity        690 non-null    int64  \n",
      " 7   YearsEmployed    690 non-null    float64\n",
      " 8   PriorDefault     690 non-null    int64  \n",
      " 9   Employed         690 non-null    int64  \n",
      " 10  CreditScore      690 non-null    int64  \n",
      " 11  DriversLicense   690 non-null    int64  \n",
      " 12  Citizen          690 non-null    int64  \n",
      " 13  Income           690 non-null    int64  \n",
      " 14  ApprovalStatus.  690 non-null    int64  \n",
      "dtypes: float64(3), int64(12)\n",
      "memory usage: 81.0 KB\n"
     ]
    }
   ],
   "source": [
    "data.info()"
   ]
  },
  {
   "cell_type": "markdown",
   "id": "c1fa8b83",
   "metadata": {},
   "source": [
    "**Now we will be droping null values**"
   ]
  },
  {
   "cell_type": "code",
   "execution_count": 25,
   "id": "58607b7c",
   "metadata": {},
   "outputs": [],
   "source": [
    "data=data.dropna(subset=['Age','Gender','Married','BankCustomer','EducationLevel','Ethnicity'])"
   ]
  },
  {
   "cell_type": "code",
   "execution_count": 26,
   "id": "9f90423d",
   "metadata": {},
   "outputs": [
    {
     "data": {
      "text/plain": [
       "Gender             0\n",
       "Age                0\n",
       "Debt               0\n",
       "Married            0\n",
       "BankCustomer       0\n",
       "EducationLevel     0\n",
       "Ethnicity          0\n",
       "YearsEmployed      0\n",
       "PriorDefault       0\n",
       "Employed           0\n",
       "CreditScore        0\n",
       "DriversLicense     0\n",
       "Citizen            0\n",
       "Income             0\n",
       "ApprovalStatus.    0\n",
       "dtype: int64"
      ]
     },
     "execution_count": 26,
     "metadata": {},
     "output_type": "execute_result"
    }
   ],
   "source": [
    "data.isna().sum()"
   ]
  },
  {
   "cell_type": "markdown",
   "id": "a1b1c442",
   "metadata": {},
   "source": [
    "## Building Models"
   ]
  },
  {
   "cell_type": "code",
   "execution_count": 27,
   "id": "3aded985",
   "metadata": {},
   "outputs": [
    {
     "data": {
      "text/plain": [
       "(678, 15)"
      ]
     },
     "execution_count": 27,
     "metadata": {},
     "output_type": "execute_result"
    }
   ],
   "source": [
    "data.shape"
   ]
  },
  {
   "cell_type": "code",
   "execution_count": 28,
   "id": "2abdc207",
   "metadata": {},
   "outputs": [
    {
     "data": {
      "text/html": [
       "<div>\n",
       "<style scoped>\n",
       "    .dataframe tbody tr th:only-of-type {\n",
       "        vertical-align: middle;\n",
       "    }\n",
       "\n",
       "    .dataframe tbody tr th {\n",
       "        vertical-align: top;\n",
       "    }\n",
       "\n",
       "    .dataframe thead th {\n",
       "        text-align: right;\n",
       "    }\n",
       "</style>\n",
       "<table border=\"1\" class=\"dataframe\">\n",
       "  <thead>\n",
       "    <tr style=\"text-align: right;\">\n",
       "      <th></th>\n",
       "      <th>Gender</th>\n",
       "      <th>Age</th>\n",
       "      <th>Debt</th>\n",
       "      <th>Married</th>\n",
       "      <th>BankCustomer</th>\n",
       "      <th>EducationLevel</th>\n",
       "      <th>Ethnicity</th>\n",
       "      <th>YearsEmployed</th>\n",
       "      <th>PriorDefault</th>\n",
       "      <th>Employed</th>\n",
       "      <th>CreditScore</th>\n",
       "      <th>DriversLicense</th>\n",
       "      <th>Citizen</th>\n",
       "      <th>Income</th>\n",
       "    </tr>\n",
       "  </thead>\n",
       "  <tbody>\n",
       "    <tr>\n",
       "      <th>0</th>\n",
       "      <td>0</td>\n",
       "      <td>30.83</td>\n",
       "      <td>0.000</td>\n",
       "      <td>0</td>\n",
       "      <td>0</td>\n",
       "      <td>2</td>\n",
       "      <td>0</td>\n",
       "      <td>1.25</td>\n",
       "      <td>0</td>\n",
       "      <td>1</td>\n",
       "      <td>1</td>\n",
       "      <td>0</td>\n",
       "      <td>0</td>\n",
       "      <td>0</td>\n",
       "    </tr>\n",
       "    <tr>\n",
       "      <th>1</th>\n",
       "      <td>1</td>\n",
       "      <td>58.67</td>\n",
       "      <td>4.460</td>\n",
       "      <td>0</td>\n",
       "      <td>0</td>\n",
       "      <td>1</td>\n",
       "      <td>1</td>\n",
       "      <td>3.04</td>\n",
       "      <td>0</td>\n",
       "      <td>1</td>\n",
       "      <td>6</td>\n",
       "      <td>0</td>\n",
       "      <td>0</td>\n",
       "      <td>560</td>\n",
       "    </tr>\n",
       "    <tr>\n",
       "      <th>2</th>\n",
       "      <td>1</td>\n",
       "      <td>24.50</td>\n",
       "      <td>0.500</td>\n",
       "      <td>0</td>\n",
       "      <td>0</td>\n",
       "      <td>1</td>\n",
       "      <td>1</td>\n",
       "      <td>1.50</td>\n",
       "      <td>0</td>\n",
       "      <td>0</td>\n",
       "      <td>0</td>\n",
       "      <td>0</td>\n",
       "      <td>0</td>\n",
       "      <td>824</td>\n",
       "    </tr>\n",
       "    <tr>\n",
       "      <th>3</th>\n",
       "      <td>0</td>\n",
       "      <td>27.83</td>\n",
       "      <td>1.540</td>\n",
       "      <td>0</td>\n",
       "      <td>0</td>\n",
       "      <td>2</td>\n",
       "      <td>0</td>\n",
       "      <td>3.75</td>\n",
       "      <td>0</td>\n",
       "      <td>1</td>\n",
       "      <td>5</td>\n",
       "      <td>1</td>\n",
       "      <td>0</td>\n",
       "      <td>3</td>\n",
       "    </tr>\n",
       "    <tr>\n",
       "      <th>4</th>\n",
       "      <td>0</td>\n",
       "      <td>20.17</td>\n",
       "      <td>5.625</td>\n",
       "      <td>0</td>\n",
       "      <td>0</td>\n",
       "      <td>2</td>\n",
       "      <td>0</td>\n",
       "      <td>1.71</td>\n",
       "      <td>0</td>\n",
       "      <td>0</td>\n",
       "      <td>0</td>\n",
       "      <td>0</td>\n",
       "      <td>1</td>\n",
       "      <td>0</td>\n",
       "    </tr>\n",
       "    <tr>\n",
       "      <th>...</th>\n",
       "      <td>...</td>\n",
       "      <td>...</td>\n",
       "      <td>...</td>\n",
       "      <td>...</td>\n",
       "      <td>...</td>\n",
       "      <td>...</td>\n",
       "      <td>...</td>\n",
       "      <td>...</td>\n",
       "      <td>...</td>\n",
       "      <td>...</td>\n",
       "      <td>...</td>\n",
       "      <td>...</td>\n",
       "      <td>...</td>\n",
       "      <td>...</td>\n",
       "    </tr>\n",
       "    <tr>\n",
       "      <th>685</th>\n",
       "      <td>0</td>\n",
       "      <td>21.08</td>\n",
       "      <td>10.085</td>\n",
       "      <td>1</td>\n",
       "      <td>1</td>\n",
       "      <td>11</td>\n",
       "      <td>1</td>\n",
       "      <td>1.25</td>\n",
       "      <td>1</td>\n",
       "      <td>0</td>\n",
       "      <td>0</td>\n",
       "      <td>0</td>\n",
       "      <td>0</td>\n",
       "      <td>0</td>\n",
       "    </tr>\n",
       "    <tr>\n",
       "      <th>686</th>\n",
       "      <td>1</td>\n",
       "      <td>22.67</td>\n",
       "      <td>0.750</td>\n",
       "      <td>0</td>\n",
       "      <td>0</td>\n",
       "      <td>0</td>\n",
       "      <td>0</td>\n",
       "      <td>2.00</td>\n",
       "      <td>1</td>\n",
       "      <td>1</td>\n",
       "      <td>2</td>\n",
       "      <td>1</td>\n",
       "      <td>0</td>\n",
       "      <td>394</td>\n",
       "    </tr>\n",
       "    <tr>\n",
       "      <th>687</th>\n",
       "      <td>1</td>\n",
       "      <td>25.25</td>\n",
       "      <td>13.500</td>\n",
       "      <td>1</td>\n",
       "      <td>1</td>\n",
       "      <td>5</td>\n",
       "      <td>3</td>\n",
       "      <td>2.00</td>\n",
       "      <td>1</td>\n",
       "      <td>1</td>\n",
       "      <td>1</td>\n",
       "      <td>1</td>\n",
       "      <td>0</td>\n",
       "      <td>1</td>\n",
       "    </tr>\n",
       "    <tr>\n",
       "      <th>688</th>\n",
       "      <td>0</td>\n",
       "      <td>17.92</td>\n",
       "      <td>0.205</td>\n",
       "      <td>0</td>\n",
       "      <td>0</td>\n",
       "      <td>4</td>\n",
       "      <td>0</td>\n",
       "      <td>0.04</td>\n",
       "      <td>1</td>\n",
       "      <td>0</td>\n",
       "      <td>0</td>\n",
       "      <td>0</td>\n",
       "      <td>0</td>\n",
       "      <td>750</td>\n",
       "    </tr>\n",
       "    <tr>\n",
       "      <th>689</th>\n",
       "      <td>0</td>\n",
       "      <td>35.00</td>\n",
       "      <td>3.375</td>\n",
       "      <td>0</td>\n",
       "      <td>0</td>\n",
       "      <td>0</td>\n",
       "      <td>1</td>\n",
       "      <td>8.29</td>\n",
       "      <td>1</td>\n",
       "      <td>0</td>\n",
       "      <td>0</td>\n",
       "      <td>1</td>\n",
       "      <td>0</td>\n",
       "      <td>0</td>\n",
       "    </tr>\n",
       "  </tbody>\n",
       "</table>\n",
       "<p>678 rows × 14 columns</p>\n",
       "</div>"
      ],
      "text/plain": [
       "     Gender    Age    Debt  Married  BankCustomer  EducationLevel  Ethnicity  \\\n",
       "0         0  30.83   0.000        0             0               2          0   \n",
       "1         1  58.67   4.460        0             0               1          1   \n",
       "2         1  24.50   0.500        0             0               1          1   \n",
       "3         0  27.83   1.540        0             0               2          0   \n",
       "4         0  20.17   5.625        0             0               2          0   \n",
       "..      ...    ...     ...      ...           ...             ...        ...   \n",
       "685       0  21.08  10.085        1             1              11          1   \n",
       "686       1  22.67   0.750        0             0               0          0   \n",
       "687       1  25.25  13.500        1             1               5          3   \n",
       "688       0  17.92   0.205        0             0               4          0   \n",
       "689       0  35.00   3.375        0             0               0          1   \n",
       "\n",
       "     YearsEmployed  PriorDefault  Employed  CreditScore  DriversLicense  \\\n",
       "0             1.25             0         1            1               0   \n",
       "1             3.04             0         1            6               0   \n",
       "2             1.50             0         0            0               0   \n",
       "3             3.75             0         1            5               1   \n",
       "4             1.71             0         0            0               0   \n",
       "..             ...           ...       ...          ...             ...   \n",
       "685           1.25             1         0            0               0   \n",
       "686           2.00             1         1            2               1   \n",
       "687           2.00             1         1            1               1   \n",
       "688           0.04             1         0            0               0   \n",
       "689           8.29             1         0            0               1   \n",
       "\n",
       "     Citizen  Income  \n",
       "0          0       0  \n",
       "1          0     560  \n",
       "2          0     824  \n",
       "3          0       3  \n",
       "4          1       0  \n",
       "..       ...     ...  \n",
       "685        0       0  \n",
       "686        0     394  \n",
       "687        0       1  \n",
       "688        0     750  \n",
       "689        0       0  \n",
       "\n",
       "[678 rows x 14 columns]"
      ]
     },
     "execution_count": 28,
     "metadata": {},
     "output_type": "execute_result"
    }
   ],
   "source": [
    "x = data.drop(['ApprovalStatus.'], axis = 1)\n",
    "y = data['ApprovalStatus.']\n",
    "x"
   ]
  },
  {
   "cell_type": "code",
   "execution_count": 29,
   "id": "1de5a308",
   "metadata": {},
   "outputs": [
    {
     "data": {
      "text/plain": [
       "678"
      ]
     },
     "execution_count": 29,
     "metadata": {},
     "output_type": "execute_result"
    }
   ],
   "source": [
    "m = data.shape[0]\n",
    "\n",
    "m #m is number of data points"
   ]
  },
  {
   "cell_type": "code",
   "execution_count": 30,
   "id": "92b368ed",
   "metadata": {},
   "outputs": [],
   "source": [
    "data.insert(0,'x0',1) # adding feature x0"
   ]
  },
  {
   "cell_type": "code",
   "execution_count": 31,
   "id": "8ddf5812",
   "metadata": {},
   "outputs": [
    {
     "name": "stdout",
     "output_type": "stream",
     "text": [
      "(678, 16)\n"
     ]
    },
    {
     "data": {
      "text/html": [
       "<div>\n",
       "<style scoped>\n",
       "    .dataframe tbody tr th:only-of-type {\n",
       "        vertical-align: middle;\n",
       "    }\n",
       "\n",
       "    .dataframe tbody tr th {\n",
       "        vertical-align: top;\n",
       "    }\n",
       "\n",
       "    .dataframe thead th {\n",
       "        text-align: right;\n",
       "    }\n",
       "</style>\n",
       "<table border=\"1\" class=\"dataframe\">\n",
       "  <thead>\n",
       "    <tr style=\"text-align: right;\">\n",
       "      <th></th>\n",
       "      <th>x0</th>\n",
       "      <th>Gender</th>\n",
       "      <th>Age</th>\n",
       "      <th>Debt</th>\n",
       "      <th>Married</th>\n",
       "      <th>BankCustomer</th>\n",
       "      <th>EducationLevel</th>\n",
       "      <th>Ethnicity</th>\n",
       "      <th>YearsEmployed</th>\n",
       "      <th>PriorDefault</th>\n",
       "      <th>Employed</th>\n",
       "      <th>CreditScore</th>\n",
       "      <th>DriversLicense</th>\n",
       "      <th>Citizen</th>\n",
       "      <th>Income</th>\n",
       "      <th>ApprovalStatus.</th>\n",
       "    </tr>\n",
       "  </thead>\n",
       "  <tbody>\n",
       "    <tr>\n",
       "      <th>0</th>\n",
       "      <td>1</td>\n",
       "      <td>0</td>\n",
       "      <td>30.83</td>\n",
       "      <td>0.00</td>\n",
       "      <td>0</td>\n",
       "      <td>0</td>\n",
       "      <td>2</td>\n",
       "      <td>0</td>\n",
       "      <td>1.25</td>\n",
       "      <td>0</td>\n",
       "      <td>1</td>\n",
       "      <td>1</td>\n",
       "      <td>0</td>\n",
       "      <td>0</td>\n",
       "      <td>0</td>\n",
       "      <td>1</td>\n",
       "    </tr>\n",
       "    <tr>\n",
       "      <th>1</th>\n",
       "      <td>1</td>\n",
       "      <td>1</td>\n",
       "      <td>58.67</td>\n",
       "      <td>4.46</td>\n",
       "      <td>0</td>\n",
       "      <td>0</td>\n",
       "      <td>1</td>\n",
       "      <td>1</td>\n",
       "      <td>3.04</td>\n",
       "      <td>0</td>\n",
       "      <td>1</td>\n",
       "      <td>6</td>\n",
       "      <td>0</td>\n",
       "      <td>0</td>\n",
       "      <td>560</td>\n",
       "      <td>1</td>\n",
       "    </tr>\n",
       "  </tbody>\n",
       "</table>\n",
       "</div>"
      ],
      "text/plain": [
       "   x0  Gender    Age  Debt  Married  BankCustomer  EducationLevel  Ethnicity  \\\n",
       "0   1       0  30.83  0.00        0             0               2          0   \n",
       "1   1       1  58.67  4.46        0             0               1          1   \n",
       "\n",
       "   YearsEmployed  PriorDefault  Employed  CreditScore  DriversLicense  \\\n",
       "0           1.25             0         1            1               0   \n",
       "1           3.04             0         1            6               0   \n",
       "\n",
       "   Citizen  Income  ApprovalStatus.  \n",
       "0        0       0                1  \n",
       "1        0     560                1  "
      ]
     },
     "execution_count": 31,
     "metadata": {},
     "output_type": "execute_result"
    }
   ],
   "source": [
    "print(data.shape)\n",
    "data.head(2)\n"
   ]
  },
  {
   "cell_type": "code",
   "execution_count": 32,
   "id": "80910964",
   "metadata": {},
   "outputs": [
    {
     "data": {
      "text/plain": [
       "(678, 14)"
      ]
     },
     "execution_count": 32,
     "metadata": {},
     "output_type": "execute_result"
    }
   ],
   "source": [
    "x.shape"
   ]
  },
  {
   "cell_type": "code",
   "execution_count": 33,
   "id": "92070cb2",
   "metadata": {},
   "outputs": [],
   "source": [
    "from scipy.special import expit #Vectorized sigmoid function"
   ]
  },
  {
   "cell_type": "code",
   "execution_count": 34,
   "id": "324a08cc",
   "metadata": {},
   "outputs": [],
   "source": [
    "#defining hypothesis\n",
    "\n",
    "def hypothesis(mytheta,myx):\n",
    "    return expit(np.dot(myx,mytheta))"
   ]
  },
  {
   "cell_type": "code",
   "execution_count": 35,
   "id": "2ef7e166",
   "metadata": {},
   "outputs": [],
   "source": [
    "#defining function that will compute cost\n",
    "def costCompute(mytheta,myx,myy,mylambda=0.):\n",
    "    term1 = np.dot(-np.array(y).T,np.log(hypothesis(mytheta,myx)))\n",
    "    term2 = np.dot(1-np.array(y).T,np.log(1-hypothesis(mytheta,myx)))\n",
    "    regterm = (mylambda/2) * np.sum(np.dot(mytheta[1:].T,mytheta[1:])) #Skip theta0\n",
    "    \n",
    "    return float( (1./m) * ( np.sum(term1 - term2) + regterm ) )"
   ]
  },
  {
   "cell_type": "code",
   "execution_count": 36,
   "id": "3557ead3",
   "metadata": {},
   "outputs": [
    {
     "data": {
      "text/plain": [
       "(14, 1)"
      ]
     },
     "execution_count": 36,
     "metadata": {},
     "output_type": "execute_result"
    }
   ],
   "source": [
    "initial_theta = np.zeros((x.shape[1],1)) #declaring initial_theta with all values as Zero\n",
    "initial_theta.shape"
   ]
  },
  {
   "cell_type": "code",
   "execution_count": 37,
   "id": "43ce96e0",
   "metadata": {},
   "outputs": [
    {
     "data": {
      "text/plain": [
       "0.693"
      ]
     },
     "execution_count": 37,
     "metadata": {},
     "output_type": "execute_result"
    }
   ],
   "source": [
    "round(costCompute(initial_theta,x,y,mylambda=0.),3) #this will be our cost value for initial_theta"
   ]
  },
  {
   "cell_type": "markdown",
   "id": "faf88105",
   "metadata": {},
   "source": [
    "### As we have initialized our theta as ZERO randomly we got cost value as 0.693 which is quite high now we will optimize this theta to minimize this cost value\n",
    "\n",
    "**We are going to find theta for which Cost value is minimum**"
   ]
  },
  {
   "cell_type": "markdown",
   "id": "2583900d",
   "metadata": {},
   "source": [
    "**Now we will be repeating the optimiziation function for 10 times and will be using final theta**"
   ]
  },
  {
   "cell_type": "code",
   "execution_count": 54,
   "id": "e995a705",
   "metadata": {},
   "outputs": [],
   "source": [
    "from scipy import optimize\n",
    "\n",
    "def optimizeTheta(mytheta,myX,myy,mylambda=0.):\n",
    "    result = optimize.fmin(costCompute, x0=mytheta, args=(myX, myy, mylambda), maxiter=4000, full_output=True)\n",
    "    return result[0], result[1]"
   ]
  },
  {
   "cell_type": "code",
   "execution_count": 39,
   "id": "21012c3e",
   "metadata": {},
   "outputs": [
    {
     "name": "stderr",
     "output_type": "stream",
     "text": [
      "<ipython-input-35-2cb765da4371>:4: RuntimeWarning: divide by zero encountered in log\n",
      "  term2 = np.dot(1-np.array(y).T,np.log(1-hypothesis(mytheta,myx)))\n"
     ]
    },
    {
     "name": "stdout",
     "output_type": "stream",
     "text": [
      "Optimization terminated successfully.\n",
      "         Current function value: 0.481800\n",
      "         Iterations: 3103\n",
      "         Function evaluations: 4262\n",
      "Optimization terminated successfully.\n",
      "         Current function value: 0.346947\n",
      "         Iterations: 3440\n",
      "         Function evaluations: 4586\n",
      "Warning: Maximum number of iterations has been exceeded.\n",
      "Optimization terminated successfully.\n",
      "         Current function value: 0.330893\n",
      "         Iterations: 20\n",
      "         Function evaluations: 319\n",
      "Optimization terminated successfully.\n",
      "         Current function value: 0.330888\n",
      "         Iterations: 23\n",
      "         Function evaluations: 187\n",
      "Optimization terminated successfully.\n",
      "         Current function value: 0.330887\n",
      "         Iterations: 13\n",
      "         Function evaluations: 207\n",
      "Optimization terminated successfully.\n",
      "         Current function value: 0.330886\n",
      "         Iterations: 51\n",
      "         Function evaluations: 233\n",
      "Optimization terminated successfully.\n",
      "         Current function value: 0.330886\n",
      "         Iterations: 13\n",
      "         Function evaluations: 207\n",
      "Optimization terminated successfully.\n",
      "         Current function value: 0.330885\n",
      "         Iterations: 13\n",
      "         Function evaluations: 207\n",
      "Optimization terminated successfully.\n",
      "         Current function value: 0.330885\n",
      "         Iterations: 16\n",
      "         Function evaluations: 255\n"
     ]
    }
   ],
   "source": [
    "theta_history = []\n",
    "cost_value = []\n",
    "theta = initial_theta\n",
    "for i in range(0,10):\n",
    "    theta, mincost = optimizeTheta(theta,x,y)\n",
    "    theta_history.append(theta)\n",
    "    cost_value.append(mincost)\n",
    "    "
   ]
  },
  {
   "cell_type": "markdown",
   "id": "3e636ca9",
   "metadata": {},
   "source": [
    "Below is the value of Theta_0 to Theta_14 after each implementation of Optimization"
   ]
  },
  {
   "cell_type": "code",
   "execution_count": 40,
   "id": "d72842db",
   "metadata": {},
   "outputs": [
    {
     "data": {
      "text/plain": [
       "[array([ 6.77564838e-01, -3.57655462e-02,  1.47304075e-02,  9.02971248e-01,\n",
       "        -1.24307382e+00, -1.72647749e-02,  1.33894329e-01,  2.67302770e-01,\n",
       "        -5.32452069e-01, -3.13407815e-01,  3.34450742e-01, -6.13698147e-01,\n",
       "         5.66429234e-01,  3.48896243e-04]),\n",
       " array([ 3.96484891e-01,  4.47779972e-03,  3.56619801e-02, -9.85434972e-01,\n",
       "         1.09335608e+00, -1.01289058e-01,  1.05201729e-01,  1.16693593e-01,\n",
       "        -3.32239543e+00,  2.37656002e-01,  1.89458072e-01, -2.56126803e-01,\n",
       "         1.25832703e+00,  3.61716100e-04]),\n",
       " array([ 2.72858253e-01, -7.64848803e-03,  1.81537676e-03, -2.13282779e+00,\n",
       "         2.10587077e+00,  4.69998377e-02, -2.50401333e-03,  1.17455916e-01,\n",
       "        -3.39925678e+00,  7.14378376e-01,  1.29694641e-01, -1.89621369e-01,\n",
       "         9.85073485e-01,  3.83178196e-04]),\n",
       " array([ 2.72858253e-01, -7.64848803e-03,  1.81537676e-03, -2.13282779e+00,\n",
       "         2.10587077e+00,  4.69998377e-02, -2.50401333e-03,  1.17455916e-01,\n",
       "        -3.39925678e+00,  7.50088574e-01,  1.29694641e-01, -1.89621369e-01,\n",
       "         9.85085416e-01,  3.83178232e-04]),\n",
       " array([ 2.72858253e-01, -7.64848803e-03,  1.81537676e-03, -2.13282779e+00,\n",
       "         2.10587077e+00,  4.69998377e-02, -2.58226375e-03,  1.17455916e-01,\n",
       "        -3.40456812e+00,  7.61808708e-01,  1.29694641e-01, -1.89621369e-01,\n",
       "         9.86576512e-01,  3.83196942e-04]),\n",
       " array([ 2.72858253e-01, -7.64848803e-03,  1.81537676e-03, -2.13282779e+00,\n",
       "         2.10587077e+00,  4.69998377e-02, -2.70128997e-03,  1.17455916e-01,\n",
       "        -3.40456812e+00,  7.64189361e-01,  1.29694641e-01, -1.89621369e-01,\n",
       "         9.87335232e-01,  3.83201620e-04]),\n",
       " array([ 2.72861323e-01, -7.64828476e-03,  1.81537394e-03, -2.13286451e+00,\n",
       "         2.10584041e+00,  4.70006037e-02, -2.83426210e-03,  1.17450120e-01,\n",
       "        -3.40599833e+00,  7.64199139e-01,  1.29687961e-01, -1.89619942e-01,\n",
       "         9.87697140e-01,  3.83223809e-04]),\n",
       " array([ 2.72861323e-01, -7.64828476e-03,  1.81537394e-03, -2.13286451e+00,\n",
       "         2.10584041e+00,  4.70006037e-02, -2.97265380e-03,  1.17450120e-01,\n",
       "        -3.40599833e+00,  7.64796170e-01,  1.29687961e-01, -1.89619942e-01,\n",
       "         9.88070903e-01,  3.83228487e-04]),\n",
       " array([ 2.72861323e-01, -7.64828476e-03,  1.81537394e-03, -2.13286451e+00,\n",
       "         2.10584041e+00,  4.70006037e-02, -3.11896411e-03,  1.17450120e-01,\n",
       "        -3.40599833e+00,  7.65094918e-01,  1.29687961e-01, -1.89619942e-01,\n",
       "         9.88444806e-01,  3.83233165e-04]),\n",
       " array([ 2.72861323e-01, -7.64828476e-03,  1.81537394e-03, -2.13286451e+00,\n",
       "         2.10584041e+00,  4.70006037e-02, -3.27247562e-03,  1.17450120e-01,\n",
       "        -3.40599833e+00,  7.65094918e-01,  1.29687961e-01, -1.89619942e-01,\n",
       "         9.89215521e-01,  3.83233750e-04])]"
      ]
     },
     "execution_count": 40,
     "metadata": {},
     "output_type": "execute_result"
    }
   ],
   "source": [
    "theta_history"
   ]
  },
  {
   "cell_type": "markdown",
   "id": "8eca616e",
   "metadata": {},
   "source": [
    "**Below is how the value of cost function decreasing after each implementation of Optimization function**"
   ]
  },
  {
   "cell_type": "code",
   "execution_count": 41,
   "id": "07ff6984",
   "metadata": {},
   "outputs": [
    {
     "data": {
      "text/plain": [
       "[0.48179990000182127,\n",
       " 0.3469466331124297,\n",
       " 0.33094060473119385,\n",
       " 0.3308931672469031,\n",
       " 0.33088798314473067,\n",
       " 0.33088722533070597,\n",
       " 0.330886402536164,\n",
       " 0.3308859361968748,\n",
       " 0.33088547356704184,\n",
       " 0.33088489121547027]"
      ]
     },
     "execution_count": 41,
     "metadata": {},
     "output_type": "execute_result"
    }
   ],
   "source": [
    "cost_value"
   ]
  },
  {
   "cell_type": "code",
   "execution_count": 42,
   "id": "aaf0e9dc",
   "metadata": {},
   "outputs": [
    {
     "data": {
      "text/plain": [
       "Text(0, 0.5, 'Cost Value')"
      ]
     },
     "execution_count": 42,
     "metadata": {},
     "output_type": "execute_result"
    },
    {
     "data": {
      "image/png": "[encoded data removed]",
      "text/plain": [
       "<Figure size 432x288 with 1 Axes>"
      ]
     },
     "metadata": {
      "needs_background": "light"
     },
     "output_type": "display_data"
    }
   ],
   "source": [
    "import matplotlib.pyplot as plt\n",
    "plt.plot(cost_value)\n",
    "plt.grid(True)\n",
    "plt.title('Cost Function Value', fontsize = 14)\n",
    "plt.xlabel('Number of Times Optimization is performed')\n",
    "plt.ylabel('Cost Value')"
   ]
  },
  {
   "cell_type": "markdown",
   "id": "07fb2fcb",
   "metadata": {},
   "source": [
    "**Now to check our calculations we will check our Hypothesis on Test and Train Data**"
   ]
  },
  {
   "cell_type": "markdown",
   "id": "326ed80b",
   "metadata": {},
   "source": [
    "First we will divide our data into train and test data"
   ]
  },
  {
   "cell_type": "code",
   "execution_count": 43,
   "id": "3845b130",
   "metadata": {},
   "outputs": [],
   "source": [
    "from sklearn.model_selection import train_test_split"
   ]
  },
  {
   "cell_type": "code",
   "execution_count": 44,
   "id": "7ef5ed60",
   "metadata": {},
   "outputs": [],
   "source": [
    "x_train,x_test,y_train,y_test = train_test_split(x,y,test_size = 20, random_state = 100)"
   ]
  },
  {
   "cell_type": "code",
   "execution_count": 45,
   "id": "43b975a4",
   "metadata": {},
   "outputs": [
    {
     "data": {
      "text/plain": [
       "(658,)"
      ]
     },
     "execution_count": 45,
     "metadata": {},
     "output_type": "execute_result"
    }
   ],
   "source": [
    "x_test = np.array(x_test)\n",
    "y_test = np.array(y_test)\n",
    "y_train.shape"
   ]
  },
  {
   "cell_type": "markdown",
   "id": "dd66c672",
   "metadata": {},
   "source": [
    "**Implementing Hypothesis on TEST data**"
   ]
  },
  {
   "cell_type": "code",
   "execution_count": 64,
   "id": "f0570f41",
   "metadata": {},
   "outputs": [
    {
     "data": {
      "text/plain": [
       "array([1, 0, 1, 1, 1, 0, 0, 0, 1, 1, 1, 0, 1, 0, 0, 1, 1, 0, 0, 1])"
      ]
     },
     "execution_count": 64,
     "metadata": {},
     "output_type": "execute_result"
    }
   ],
   "source": [
    "lst = []\n",
    "for i in range(0,20):\n",
    "    lst.append(round(hypothesis(theta,x_test[i])))\n",
    "\n",
    "y_test_predicted = np.array(lst)\n",
    "y_test_predicted"
   ]
  },
  {
   "cell_type": "markdown",
   "id": "90b66802",
   "metadata": {},
   "source": [
    "**Implementing Hypothesis on TRAIN data**"
   ]
  },
  {
   "cell_type": "code",
   "execution_count": 47,
   "id": "be235bcf",
   "metadata": {},
   "outputs": [],
   "source": [
    "x_train = np.array(x_train)\n",
    "y_train = np.array(y_train)"
   ]
  },
  {
   "cell_type": "code",
   "execution_count": 61,
   "id": "3d1a2fcb",
   "metadata": {},
   "outputs": [],
   "source": [
    "lst1 = []\n",
    "for i in range(0,658):\n",
    "    lst1.append(round(hypothesis(theta,x_train[i])))\n",
    "\n",
    "y_train_predicted = np.array(lst1)"
   ]
  },
  {
   "cell_type": "code",
   "execution_count": 63,
   "id": "94c1cb8d",
   "metadata": {},
   "outputs": [
    {
     "data": {
      "text/plain": [
       "array([1, 0, 1, 1, 1, 0, 0, 0, 1, 0, 1, 0, 1, 0, 0, 1, 1, 0, 1, 1],\n",
       "      dtype=int64)"
      ]
     },
     "execution_count": 63,
     "metadata": {},
     "output_type": "execute_result"
    }
   ],
   "source": [
    "y_test"
   ]
  },
  {
   "cell_type": "markdown",
   "id": "04e0181c",
   "metadata": {},
   "source": [
    "**Checking performance on y_test and y_test_Predicted**"
   ]
  },
  {
   "cell_type": "code",
   "execution_count": 65,
   "id": "e122acac",
   "metadata": {},
   "outputs": [
    {
     "name": "stdout",
     "output_type": "stream",
     "text": [
      "              precision    recall  f1-score   support\n",
      "\n",
      "           0       0.89      0.89      0.89         9\n",
      "           1       0.91      0.91      0.91        11\n",
      "\n",
      "    accuracy                           0.90        20\n",
      "   macro avg       0.90      0.90      0.90        20\n",
      "weighted avg       0.90      0.90      0.90        20\n",
      "\n"
     ]
    }
   ],
   "source": [
    "from sklearn.metrics import classification_report,f1_score\n",
    "print(classification_report(y_test, y_test_predicted))"
   ]
  },
  {
   "cell_type": "code",
   "execution_count": 70,
   "id": "2e9ab38d",
   "metadata": {},
   "outputs": [
    {
     "name": "stdout",
     "output_type": "stream",
     "text": [
      "[[ 8  1]\n",
      " [ 1 10]]\n"
     ]
    }
   ],
   "source": [
    "from sklearn.metrics import confusion_matrix,accuracy_score\n",
    "confusion_matrix = confusion_matrix(y_test, y_test_predicted)\n",
    "print(confusion_matrix)"
   ]
  },
  {
   "cell_type": "code",
   "execution_count": 67,
   "id": "8e1e0e50",
   "metadata": {},
   "outputs": [
    {
     "name": "stdout",
     "output_type": "stream",
     "text": [
      "F1 Score : 0.9090909090909091\n",
      "Accuracy Score : 90.0 %\n"
     ]
    }
   ],
   "source": [
    "print('F1 Score : ' + str(f1_score(y_test,y_test_predicted)))\n",
    "print('Accuracy Score : ' + str(accuracy_score(y_test,y_test_predicted)*100) +' %')"
   ]
  },
  {
   "cell_type": "markdown",
   "id": "da2d165d",
   "metadata": {},
   "source": [
    "**Checking performance on y_train and y_train_predicted**"
   ]
  },
  {
   "cell_type": "code",
   "execution_count": 68,
   "id": "bb32c199",
   "metadata": {},
   "outputs": [
    {
     "name": "stdout",
     "output_type": "stream",
     "text": [
      "              precision    recall  f1-score   support\n",
      "\n",
      "           0       0.90      0.85      0.87       364\n",
      "           1       0.82      0.88      0.85       294\n",
      "\n",
      "    accuracy                           0.86       658\n",
      "   macro avg       0.86      0.86      0.86       658\n",
      "weighted avg       0.87      0.86      0.86       658\n",
      "\n"
     ]
    }
   ],
   "source": [
    "print(classification_report(y_train, y_train_predicted))"
   ]
  },
  {
   "cell_type": "code",
   "execution_count": 72,
   "id": "1bf9e753",
   "metadata": {},
   "outputs": [
    {
     "name": "stdout",
     "output_type": "stream",
     "text": [
      "[[309  55]\n",
      " [ 35 259]]\n"
     ]
    }
   ],
   "source": [
    "from sklearn.metrics import confusion_matrix,accuracy_score\n",
    "confusion_matrix = confusion_matrix(y_train, y_train_predicted)\n",
    "print(confusion_matrix)"
   ]
  },
  {
   "cell_type": "code",
   "execution_count": 76,
   "id": "9f17194a",
   "metadata": {},
   "outputs": [
    {
     "name": "stdout",
     "output_type": "stream",
     "text": [
      "F1 Score : 0.8519736842105262\n",
      "Accuracy Score : 86 %\n"
     ]
    }
   ],
   "source": [
    "print('F1 Score : ' + str(f1_score(y_train,y_train_predicted)))\n",
    "print('Accuracy Score : ' + str(round(accuracy_score(y_train,y_train_predicted)*100)) +' %')"
   ]
  },
  {
   "cell_type": "markdown",
   "id": "652c5a82",
   "metadata": {},
   "source": [
    "**We Built Model with 90 % Accuracy on test data and 86 % on train data 🙂**"
   ]
  }
 ],
 "metadata": {
  "kernelspec": {
   "display_name": "Python 3",
   "language": "python",
   "name": "python3"
  },
  "language_info": {
   "codemirror_mode": {
    "name": "ipython",
    "version": 3
   },
   "file_extension": ".py",
   "mimetype": "text/x-python",
   "name": "python",
   "nbconvert_exporter": "python",
   "pygments_lexer": "ipython3",
   "version": "3.8.8"
  }
 },
 "nbformat": 4,
 "nbformat_minor": 5
}
